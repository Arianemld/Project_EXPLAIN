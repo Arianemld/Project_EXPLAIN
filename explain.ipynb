{
 "cells": [
  {
   "cell_type": "markdown",
   "metadata": {},
<<<<<<< HEAD
   "source": [
    "# Import"
=======
   "source": []
  },
  {
   "attachments": {},
   "cell_type": "markdown",
   "metadata": {},
   "source": [
    "# Import sources"
>>>>>>> 51cf9129fc15fbeb346904111f280695f48db099
   ]
  },
  {
   "cell_type": "code",
   "execution_count": 1,
   "metadata": {},
   "outputs": [
    {
     "name": "stderr",
     "output_type": "stream",
     "text": [
      "[nltk_data] Downloading package stopwords to\n",
<<<<<<< HEAD
      "[nltk_data]     C:\\Users\\willy\\AppData\\Roaming\\nltk_data...\n",
      "[nltk_data]   Package stopwords is already up-to-date!\n",
      "[nltk_data] Downloading package wordnet to\n",
      "[nltk_data]     C:\\Users\\willy\\AppData\\Roaming\\nltk_data...\n",
=======
      "[nltk_data]     /Users/arianemailanandam/nltk_data...\n",
      "[nltk_data]   Package stopwords is already up-to-date!\n",
      "[nltk_data] Downloading package wordnet to\n",
      "[nltk_data]     /Users/arianemailanandam/nltk_data...\n",
>>>>>>> 51cf9129fc15fbeb346904111f280695f48db099
      "[nltk_data]   Package wordnet is already up-to-date!\n"
     ]
    }
   ],
   "source": [
    "import pandas as pd \n",
    "import re #expression régulière \n",
    "import nltk #traitement naturel symbolique et statistique du langage anglais\n",
    "from nltk.corpus import stopwords\n",
    "from nltk.stem import WordNetLemmatizer\n",
    "import matplotlib.pyplot as plt\n",
    "import seaborn as sns\n",
    "import ast \n",
    "\n",
    "nltk.download('stopwords')\n",
    "nltk.download('wordnet')\n",
    "\n",
    "\n",
    "df = pd.read_excel(\"data.xlsx\")"
   ]
  },
  {
   "cell_type": "code",
   "execution_count": 2,
   "metadata": {},
   "outputs": [
    {
     "data": {
      "text/html": [
       "<div>\n",
       "<style scoped>\n",
       "    .dataframe tbody tr th:only-of-type {\n",
       "        vertical-align: middle;\n",
       "    }\n",
       "\n",
       "    .dataframe tbody tr th {\n",
       "        vertical-align: top;\n",
       "    }\n",
       "\n",
       "    .dataframe thead th {\n",
       "        text-align: right;\n",
       "    }\n",
       "</style>\n",
       "<table border=\"1\" class=\"dataframe\">\n",
       "  <thead>\n",
       "    <tr style=\"text-align: right;\">\n",
       "      <th></th>\n",
       "      <th>Numéro d'application</th>\n",
       "      <th>Date d'application</th>\n",
       "      <th>Numero de publication</th>\n",
       "      <th>date de publication</th>\n",
       "      <th>CPC</th>\n",
       "      <th>IPC</th>\n",
       "      <th>claim</th>\n",
       "      <th>description</th>\n",
       "    </tr>\n",
       "  </thead>\n",
       "  <tbody>\n",
       "    <tr>\n",
       "      <th>0</th>\n",
       "      <td>17167919</td>\n",
       "      <td>2017-04-25</td>\n",
       "      <td>3264223</td>\n",
       "      <td>2018-01-03</td>\n",
       "      <td>['B23K26-361', 'H04M1-0266', 'B23K26-402', 'G0...</td>\n",
       "      <td>['C08J7-04', 'H04M1-02', 'G06F1-16', 'B23K26-3...</td>\n",
       "      <td>&lt;!-- EPO &lt;DP n=\"18\"&gt; --&gt;&lt;claim id=\"c-en-0001\" ...</td>\n",
       "      <td>&lt;!-- EPO &lt;DP n=\"1\"&gt; --&gt;&lt;p id=\"p0001\" num=\"0001...</td>\n",
       "    </tr>\n",
       "    <tr>\n",
       "      <th>1</th>\n",
       "      <td>17166775</td>\n",
       "      <td>2017-04-18</td>\n",
       "      <td>3235458</td>\n",
       "      <td>2017-10-25</td>\n",
       "      <td>['A61B17-68', 'A61B17-888', 'A61B17-8685', 'A6...</td>\n",
       "      <td>['A61B17-88', 'A61B17-68', 'A61B17-86']</td>\n",
       "      <td>&lt;!-- EPO &lt;DP n=\"20\"&gt; --&gt;&lt;claim id=\"c-en-0001\" ...</td>\n",
       "      <td>&lt;!-- EPO &lt;DP n=\"1\"&gt; --&gt;&lt;heading id=\"h0001\"&gt;FIE...</td>\n",
       "    </tr>\n",
       "    <tr>\n",
       "      <th>2</th>\n",
       "      <td>17166069</td>\n",
       "      <td>2017-04-11</td>\n",
       "      <td>3249094</td>\n",
       "      <td>2017-11-29</td>\n",
       "      <td>['D06F58-206', 'D06F58-20']</td>\n",
       "      <td>['D06F58-20', 'D06F58-02']</td>\n",
       "      <td>&lt;!-- EPO &lt;DP n=\"22\"&gt; --&gt;&lt;claim id=\"c-en-0001\" ...</td>\n",
       "      <td>&lt;!-- EPO &lt;DP n=\"1\"&gt; --&gt;&lt;heading id=\"h0001\"&gt;&lt;b&gt;...</td>\n",
       "    </tr>\n",
       "    <tr>\n",
       "      <th>3</th>\n",
       "      <td>18771363</td>\n",
       "      <td>2018-03-05</td>\n",
       "      <td>3605724</td>\n",
       "      <td>2020-02-05</td>\n",
       "      <td>['H01P1-2138', 'H01P5-107', 'H01P1-2088', 'H01...</td>\n",
       "      <td>['H01P3-12', 'H01P1-213', 'H01P5-107']</td>\n",
       "      <td>&lt;!-- EPO &lt;DP n=\"62\"&gt; --&gt;&lt;claim id=\"c-en-0001\" ...</td>\n",
       "      <td>&lt;!-- EPO &lt;DP n=\"1\"&gt; --&gt;&lt;heading id=\"h0001\"&gt;Tec...</td>\n",
       "    </tr>\n",
       "    <tr>\n",
       "      <th>4</th>\n",
       "      <td>19881950</td>\n",
       "      <td>2019-11-01</td>\n",
       "      <td>3713245</td>\n",
       "      <td>2020-09-23</td>\n",
       "      <td>['H04N21-4345', 'H04N21-4821', 'H04N21-4316']</td>\n",
       "      <td>['H04N21-482', 'H04N21-262']</td>\n",
       "      <td>&lt;!-- EPO &lt;DP n=\"14\"&gt; --&gt;&lt;claim id=\"c-en-0001\" ...</td>\n",
       "      <td>&lt;!-- EPO &lt;DP n=\"1\"&gt; --&gt;&lt;p id=\"p0001\" num=\"0001...</td>\n",
       "    </tr>\n",
       "  </tbody>\n",
       "</table>\n",
       "</div>"
      ],
      "text/plain": [
       "   Numéro d'application Date d'application  Numero de publication  \\\n",
       "0              17167919         2017-04-25                3264223   \n",
       "1              17166775         2017-04-18                3235458   \n",
       "2              17166069         2017-04-11                3249094   \n",
       "3              18771363         2018-03-05                3605724   \n",
       "4              19881950         2019-11-01                3713245   \n",
       "\n",
       "  date de publication                                                CPC  \\\n",
       "0          2018-01-03  ['B23K26-361', 'H04M1-0266', 'B23K26-402', 'G0...   \n",
       "1          2017-10-25  ['A61B17-68', 'A61B17-888', 'A61B17-8685', 'A6...   \n",
       "2          2017-11-29                        ['D06F58-206', 'D06F58-20']   \n",
       "3          2020-02-05  ['H01P1-2138', 'H01P5-107', 'H01P1-2088', 'H01...   \n",
       "4          2020-09-23      ['H04N21-4345', 'H04N21-4821', 'H04N21-4316']   \n",
       "\n",
       "                                                 IPC  \\\n",
       "0  ['C08J7-04', 'H04M1-02', 'G06F1-16', 'B23K26-3...   \n",
       "1            ['A61B17-88', 'A61B17-68', 'A61B17-86']   \n",
       "2                         ['D06F58-20', 'D06F58-02']   \n",
       "3             ['H01P3-12', 'H01P1-213', 'H01P5-107']   \n",
       "4                       ['H04N21-482', 'H04N21-262']   \n",
       "\n",
       "                                               claim  \\\n",
       "0  <!-- EPO <DP n=\"18\"> --><claim id=\"c-en-0001\" ...   \n",
       "1  <!-- EPO <DP n=\"20\"> --><claim id=\"c-en-0001\" ...   \n",
       "2  <!-- EPO <DP n=\"22\"> --><claim id=\"c-en-0001\" ...   \n",
       "3  <!-- EPO <DP n=\"62\"> --><claim id=\"c-en-0001\" ...   \n",
       "4  <!-- EPO <DP n=\"14\"> --><claim id=\"c-en-0001\" ...   \n",
       "\n",
       "                                         description  \n",
       "0  <!-- EPO <DP n=\"1\"> --><p id=\"p0001\" num=\"0001...  \n",
       "1  <!-- EPO <DP n=\"1\"> --><heading id=\"h0001\">FIE...  \n",
       "2  <!-- EPO <DP n=\"1\"> --><heading id=\"h0001\"><b>...  \n",
       "3  <!-- EPO <DP n=\"1\"> --><heading id=\"h0001\">Tec...  \n",
       "4  <!-- EPO <DP n=\"1\"> --><p id=\"p0001\" num=\"0001...  "
      ]
     },
     "execution_count": 2,
     "metadata": {},
     "output_type": "execute_result"
    }
   ],
   "source": [
<<<<<<< HEAD
    "df.head()"
=======
    "df.head()\n"
>>>>>>> 51cf9129fc15fbeb346904111f280695f48db099
   ]
  },
  {
   "cell_type": "code",
   "execution_count": 3,
   "metadata": {},
   "outputs": [
    {
     "data": {
      "text/plain": [
       "Numéro d'application              int64\n",
       "Date d'application       datetime64[ns]\n",
       "Numero de publication             int64\n",
       "date de publication      datetime64[ns]\n",
       "CPC                              object\n",
       "IPC                              object\n",
       "claim                            object\n",
       "description                      object\n",
       "dtype: object"
      ]
     },
     "execution_count": 3,
     "metadata": {},
     "output_type": "execute_result"
    }
   ],
   "source": [
    "df.columns\n",
    "df.dtypes #Normalement pas besoin de faire des conversions "
   ]
  },
  {
   "cell_type": "code",
   "execution_count": 4,
   "metadata": {},
   "outputs": [
    {
     "name": "stdout",
     "output_type": "stream",
     "text": [
      "Numéro d'application     0\n",
      "Date d'application       0\n",
      "Numero de publication    0\n",
      "date de publication      0\n",
      "CPC                      0\n",
      "IPC                      0\n",
      "claim                    0\n",
      "description              0\n",
      "dtype: int64\n"
     ]
    }
   ],
   "source": [
    "#Des valeurs manquantes ?\n",
    "print(df.isnull().sum())\n",
    "\n",
    "#Pas de valeur manquante "
   ]
  },
  {
   "cell_type": "code",
   "execution_count": 5,
   "metadata": {},
   "outputs": [
    {
     "name": "stdout",
     "output_type": "stream",
     "text": [
      "Nombre de doublons : 0\n"
     ]
    }
   ],
   "source": [
    "#Supprimer les doublons \n",
    "df = df.drop_duplicates()\n",
    "\n",
    "# Vérification des doublons\n",
<<<<<<< HEAD
    "print(\"Nombre de doublons :\", df.duplicated().sum()) #pas de doublons"
=======
    "print(\"Nombre de doublons :\", df.duplicated().sum()) #pas de doublons\n"
   ]
  },
  {
   "attachments": {},
   "cell_type": "markdown",
   "metadata": {},
   "source": [
    "# Tokenisation et lemmatisation"
>>>>>>> 51cf9129fc15fbeb346904111f280695f48db099
   ]
  },
  {
   "cell_type": "code",
   "execution_count": 6,
   "metadata": {},
   "outputs": [
    {
<<<<<<< HEAD
     "data": {
      "text/html": [
       "<div>\n",
       "<style scoped>\n",
       "    .dataframe tbody tr th:only-of-type {\n",
       "        vertical-align: middle;\n",
       "    }\n",
       "\n",
       "    .dataframe tbody tr th {\n",
       "        vertical-align: top;\n",
       "    }\n",
       "\n",
       "    .dataframe thead th {\n",
       "        text-align: right;\n",
       "    }\n",
       "</style>\n",
       "<table border=\"1\" class=\"dataframe\">\n",
       "  <thead>\n",
       "    <tr style=\"text-align: right;\">\n",
       "      <th></th>\n",
       "      <th>Numéro d'application</th>\n",
       "      <th>Date d'application</th>\n",
       "      <th>Numero de publication</th>\n",
       "      <th>date de publication</th>\n",
       "      <th>CPC</th>\n",
       "      <th>IPC</th>\n",
       "      <th>claim</th>\n",
       "      <th>description</th>\n",
       "    </tr>\n",
       "  </thead>\n",
       "  <tbody>\n",
       "    <tr>\n",
       "      <th>33553</th>\n",
       "      <td>17159356</td>\n",
       "      <td>2017-03-06</td>\n",
       "      <td>3284640</td>\n",
       "      <td>2018-02-21</td>\n",
       "      <td>['B60R22-20', 'Y10T24-4084', 'Y10T24-4019']</td>\n",
       "      <td>['B60R22-20']</td>\n",
       "      <td>&lt;!-- EPO &lt;DP n=\"16\"&gt; --&gt;&lt;claim id=\"c-en-0001\" ...</td>\n",
       "      <td>&lt;!-- EPO &lt;DP n=\"1\"&gt; --&gt;&lt;heading id=\"h0001\"&gt;BAC...</td>\n",
       "    </tr>\n",
       "    <tr>\n",
       "      <th>9427</th>\n",
       "      <td>18853856</td>\n",
       "      <td>2018-09-05</td>\n",
       "      <td>3660649</td>\n",
       "      <td>2020-06-03</td>\n",
       "      <td>['G06F3-0488', 'G06F3-0416', 'G06F2203-04808',...</td>\n",
       "      <td>['G06F3-041', 'G06F3-0488']</td>\n",
       "      <td>&lt;!-- EPO &lt;DP n=\"11\"&gt; --&gt;&lt;claim id=\"c-en-0001\" ...</td>\n",
       "      <td>&lt;!-- EPO &lt;DP n=\"1\"&gt; --&gt;&lt;heading id=\"h0001\"&gt;&lt;b&gt;...</td>\n",
       "    </tr>\n",
       "    <tr>\n",
       "      <th>199</th>\n",
       "      <td>18760974</td>\n",
       "      <td>2018-01-31</td>\n",
       "      <td>3591276</td>\n",
       "      <td>2020-01-08</td>\n",
       "      <td>['F16L37-088', 'F16L37-0841']</td>\n",
       "      <td>['F16L37-088']</td>\n",
       "      <td>&lt;!-- EPO &lt;DP n=\"19\"&gt; --&gt;&lt;claim id=\"c-en-0001\" ...</td>\n",
       "      <td>&lt;!-- EPO &lt;DP n=\"1\"&gt; --&gt;&lt;heading id=\"h0001\"&gt;Tec...</td>\n",
       "    </tr>\n",
       "    <tr>\n",
       "      <th>12447</th>\n",
       "      <td>19150079</td>\n",
       "      <td>2019-01-02</td>\n",
       "      <td>3678269</td>\n",
       "      <td>2020-07-08</td>\n",
       "      <td>['H02H3-006', 'H02H7-26', 'H02H3-044']</td>\n",
       "      <td>['H02H3-00', 'H02H7-26']</td>\n",
       "      <td>&lt;!-- EPO &lt;DP n=\"28\"&gt; --&gt;&lt;claim id=\"c-en-0001\" ...</td>\n",
       "      <td>&lt;!-- EPO &lt;DP n=\"1\"&gt; --&gt;&lt;p id=\"p0001\" num=\"0001...</td>\n",
       "    </tr>\n",
       "    <tr>\n",
       "      <th>39489</th>\n",
       "      <td>20855185</td>\n",
       "      <td>2020-07-17</td>\n",
       "      <td>4017072</td>\n",
       "      <td>2022-06-22</td>\n",
       "      <td>['H04W24-02', 'H04W24-10']</td>\n",
       "      <td>['H04W24-02']</td>\n",
       "      <td>&lt;!-- EPO &lt;DP n=\"17\"&gt; --&gt;&lt;claim id=\"c-en-0001\" ...</td>\n",
       "      <td>&lt;!-- EPO &lt;DP n=\"1\"&gt; --&gt;&lt;heading id=\"h0001\"&gt;&lt;b&gt;...</td>\n",
       "    </tr>\n",
       "    <tr>\n",
       "      <th>...</th>\n",
       "      <td>...</td>\n",
       "      <td>...</td>\n",
       "      <td>...</td>\n",
       "      <td>...</td>\n",
       "      <td>...</td>\n",
       "      <td>...</td>\n",
       "      <td>...</td>\n",
       "      <td>...</td>\n",
       "    </tr>\n",
       "    <tr>\n",
       "      <th>33981</th>\n",
       "      <td>17190400</td>\n",
       "      <td>2017-09-11</td>\n",
       "      <td>3337007</td>\n",
       "      <td>2018-06-20</td>\n",
       "      <td>['F04B39-121', 'F04B39-0044', 'F04B35-045', 'H...</td>\n",
       "      <td>['F04F7-00', 'F16F7-10', 'H02K5-24', 'H02J9-06']</td>\n",
       "      <td>&lt;!-- EPO &lt;DP n=\"59\"&gt; --&gt;&lt;claim id=\"c-en-0001\" ...</td>\n",
       "      <td>&lt;!-- EPO &lt;DP n=\"1\"&gt; --&gt;&lt;heading id=\"h0001\"&gt;&lt;b&gt;...</td>\n",
       "    </tr>\n",
       "    <tr>\n",
       "      <th>31260</th>\n",
       "      <td>18184839</td>\n",
       "      <td>2018-07-20</td>\n",
       "      <td>3439347</td>\n",
       "      <td>2019-02-06</td>\n",
       "      <td>['H04W12-08', 'H04L63-102', 'H04W12-06', 'H04L...</td>\n",
       "      <td>['H04W12-08', 'H04W12-06', 'H04L29-06']</td>\n",
       "      <td>&lt;!-- EPO &lt;DP n=\"20\"&gt; --&gt;&lt;claim id=\"c-en-0001\" ...</td>\n",
       "      <td>&lt;!-- EPO &lt;DP n=\"1\"&gt; --&gt;&lt;heading id=\"h0001\"&gt;&lt;b&gt;...</td>\n",
       "    </tr>\n",
       "    <tr>\n",
       "      <th>12292</th>\n",
       "      <td>19180813</td>\n",
       "      <td>2019-06-18</td>\n",
       "      <td>3697039</td>\n",
       "      <td>2020-08-19</td>\n",
       "      <td>['H04L67-02', 'H04L47-125', 'H04L67-61', 'H04L...</td>\n",
       "      <td>['H04L29-08', 'H04L12-803']</td>\n",
       "      <td>&lt;!-- EPO &lt;DP n=\"19\"&gt; --&gt;&lt;claim id=\"c-en-0001\" ...</td>\n",
       "      <td>&lt;!-- EPO &lt;DP n=\"1\"&gt; --&gt;&lt;heading id=\"h0001\"&gt;&lt;b&gt;...</td>\n",
       "    </tr>\n",
       "    <tr>\n",
       "      <th>42286</th>\n",
       "      <td>21152659</td>\n",
       "      <td>2021-01-21</td>\n",
       "      <td>4033161</td>\n",
       "      <td>2022-07-27</td>\n",
       "      <td>['F24D19-0092', 'F24H9-2021', 'F24D2220-042']</td>\n",
       "      <td>['F24D19-00', 'F24H9-20']</td>\n",
       "      <td>&lt;!-- EPO &lt;DP n=\"14\"&gt; --&gt;&lt;claim id=\"c-en-0001\" ...</td>\n",
       "      <td>&lt;!-- EPO &lt;DP n=\"1\"&gt; --&gt;&lt;p id=\"p0001\" num=\"0001...</td>\n",
       "    </tr>\n",
       "    <tr>\n",
       "      <th>13664</th>\n",
       "      <td>18305451</td>\n",
       "      <td>2018-04-12</td>\n",
       "      <td>3553686</td>\n",
       "      <td>2019-10-16</td>\n",
       "      <td>['G06F21-86', 'G06F21-554']</td>\n",
       "      <td>['G06F21-50', 'G06F21-71', 'G06F21-52', 'G06F2...</td>\n",
       "      <td>&lt;!-- EPO &lt;DP n=\"10\"&gt; --&gt;&lt;claim id=\"c-en-0001\" ...</td>\n",
       "      <td>&lt;!-- EPO &lt;DP n=\"1\"&gt; --&gt;&lt;heading id=\"h0001\"&gt;&lt;b&gt;...</td>\n",
       "    </tr>\n",
       "  </tbody>\n",
       "</table>\n",
       "<p>1000 rows × 8 columns</p>\n",
       "</div>"
      ],
      "text/plain": [
       "       Numéro d'application Date d'application  Numero de publication  \\\n",
       "33553              17159356         2017-03-06                3284640   \n",
       "9427               18853856         2018-09-05                3660649   \n",
       "199                18760974         2018-01-31                3591276   \n",
       "12447              19150079         2019-01-02                3678269   \n",
       "39489              20855185         2020-07-17                4017072   \n",
       "...                     ...                ...                    ...   \n",
       "33981              17190400         2017-09-11                3337007   \n",
       "31260              18184839         2018-07-20                3439347   \n",
       "12292              19180813         2019-06-18                3697039   \n",
       "42286              21152659         2021-01-21                4033161   \n",
       "13664              18305451         2018-04-12                3553686   \n",
       "\n",
       "      date de publication                                                CPC  \\\n",
       "33553          2018-02-21        ['B60R22-20', 'Y10T24-4084', 'Y10T24-4019']   \n",
       "9427           2020-06-03  ['G06F3-0488', 'G06F3-0416', 'G06F2203-04808',...   \n",
       "199            2020-01-08                      ['F16L37-088', 'F16L37-0841']   \n",
       "12447          2020-07-08             ['H02H3-006', 'H02H7-26', 'H02H3-044']   \n",
       "39489          2022-06-22                         ['H04W24-02', 'H04W24-10']   \n",
       "...                   ...                                                ...   \n",
       "33981          2018-06-20  ['F04B39-121', 'F04B39-0044', 'F04B35-045', 'H...   \n",
       "31260          2019-02-06  ['H04W12-08', 'H04L63-102', 'H04W12-06', 'H04L...   \n",
       "12292          2020-08-19  ['H04L67-02', 'H04L47-125', 'H04L67-61', 'H04L...   \n",
       "42286          2022-07-27      ['F24D19-0092', 'F24H9-2021', 'F24D2220-042']   \n",
       "13664          2019-10-16                        ['G06F21-86', 'G06F21-554']   \n",
       "\n",
       "                                                     IPC  \\\n",
       "33553                                      ['B60R22-20']   \n",
       "9427                         ['G06F3-041', 'G06F3-0488']   \n",
       "199                                       ['F16L37-088']   \n",
       "12447                           ['H02H3-00', 'H02H7-26']   \n",
       "39489                                      ['H04W24-02']   \n",
       "...                                                  ...   \n",
       "33981   ['F04F7-00', 'F16F7-10', 'H02K5-24', 'H02J9-06']   \n",
       "31260            ['H04W12-08', 'H04W12-06', 'H04L29-06']   \n",
       "12292                        ['H04L29-08', 'H04L12-803']   \n",
       "42286                          ['F24D19-00', 'F24H9-20']   \n",
       "13664  ['G06F21-50', 'G06F21-71', 'G06F21-52', 'G06F2...   \n",
       "\n",
       "                                                   claim  \\\n",
       "33553  <!-- EPO <DP n=\"16\"> --><claim id=\"c-en-0001\" ...   \n",
       "9427   <!-- EPO <DP n=\"11\"> --><claim id=\"c-en-0001\" ...   \n",
       "199    <!-- EPO <DP n=\"19\"> --><claim id=\"c-en-0001\" ...   \n",
       "12447  <!-- EPO <DP n=\"28\"> --><claim id=\"c-en-0001\" ...   \n",
       "39489  <!-- EPO <DP n=\"17\"> --><claim id=\"c-en-0001\" ...   \n",
       "...                                                  ...   \n",
       "33981  <!-- EPO <DP n=\"59\"> --><claim id=\"c-en-0001\" ...   \n",
       "31260  <!-- EPO <DP n=\"20\"> --><claim id=\"c-en-0001\" ...   \n",
       "12292  <!-- EPO <DP n=\"19\"> --><claim id=\"c-en-0001\" ...   \n",
       "42286  <!-- EPO <DP n=\"14\"> --><claim id=\"c-en-0001\" ...   \n",
       "13664  <!-- EPO <DP n=\"10\"> --><claim id=\"c-en-0001\" ...   \n",
       "\n",
       "                                             description  \n",
       "33553  <!-- EPO <DP n=\"1\"> --><heading id=\"h0001\">BAC...  \n",
       "9427   <!-- EPO <DP n=\"1\"> --><heading id=\"h0001\"><b>...  \n",
       "199    <!-- EPO <DP n=\"1\"> --><heading id=\"h0001\">Tec...  \n",
       "12447  <!-- EPO <DP n=\"1\"> --><p id=\"p0001\" num=\"0001...  \n",
       "39489  <!-- EPO <DP n=\"1\"> --><heading id=\"h0001\"><b>...  \n",
       "...                                                  ...  \n",
       "33981  <!-- EPO <DP n=\"1\"> --><heading id=\"h0001\"><b>...  \n",
       "31260  <!-- EPO <DP n=\"1\"> --><heading id=\"h0001\"><b>...  \n",
       "12292  <!-- EPO <DP n=\"1\"> --><heading id=\"h0001\"><b>...  \n",
       "42286  <!-- EPO <DP n=\"1\"> --><p id=\"p0001\" num=\"0001...  \n",
       "13664  <!-- EPO <DP n=\"1\"> --><heading id=\"h0001\"><b>...  \n",
       "\n",
       "[1000 rows x 8 columns]"
      ]
     },
     "execution_count": 6,
     "metadata": {},
     "output_type": "execute_result"
    }
   ],
   "source": [
    "df_sample = df.sample(n=1000, random_state=42)\n",
    "df_sample"
   ]
  },
  {
   "cell_type": "markdown",
   "metadata": {},
   "source": [
    "# Tokenisation et lemmatisation"
=======
     "name": "stdout",
     "output_type": "stream",
     "text": [
      "                                               claim  \\\n",
      "0  <!-- EPO <DP n=\"18\"> --><claim id=\"c-en-0001\" ...   \n",
      "1  <!-- EPO <DP n=\"20\"> --><claim id=\"c-en-0001\" ...   \n",
      "2  <!-- EPO <DP n=\"22\"> --><claim id=\"c-en-0001\" ...   \n",
      "3  <!-- EPO <DP n=\"62\"> --><claim id=\"c-en-0001\" ...   \n",
      "4  <!-- EPO <DP n=\"14\"> --><claim id=\"c-en-0001\" ...   \n",
      "\n",
      "                                     claim_processed  \n",
      "0  epo dp n 18 claim id c en 0001 num 0001 claim ...  \n",
      "1  epo dp n 20 claim id c en 0001 num 0001 claim ...  \n",
      "2  epo dp n 22 claim id c en 0001 num 0001 claim ...  \n",
      "3  epo dp n 62 claim id c en 0001 num 0001 claim ...  \n",
      "4  epo dp n 14 claim id c en 0001 num 0001 claim ...  \n",
      "                                         description  \\\n",
      "0  <!-- EPO <DP n=\"1\"> --><p id=\"p0001\" num=\"0001...   \n",
      "1  <!-- EPO <DP n=\"1\"> --><heading id=\"h0001\">FIE...   \n",
      "2  <!-- EPO <DP n=\"1\"> --><heading id=\"h0001\"><b>...   \n",
      "3  <!-- EPO <DP n=\"1\"> --><heading id=\"h0001\">Tec...   \n",
      "4  <!-- EPO <DP n=\"1\"> --><p id=\"p0001\" num=\"0001...   \n",
      "\n",
      "                               description_processed  \n",
      "0  epo dp n 1 p id p0001 num 0001 present inventi...  \n",
      "1  epo dp n 1 heading id h0001 field invention he...  \n",
      "2  epo dp n 1 heading id h0001 b field b heading ...  \n",
      "3  epo dp n 1 heading id h0001 technical field he...  \n",
      "4  epo dp n 1 p id p0001 num 0001 application cla...  \n"
     ]
    }
   ],
   "source": [
    "def clean_text(text):\n",
    "    text = re.sub(r'\\W', ' ', text)  # Enlever les caractères spéciaux\n",
    "    text = text.lower()  # Convertir en minuscules\n",
    "    text = re.sub(r'\\s+', ' ', text)  # Enlever les espaces multiples\n",
    "    return text\n",
    "\n",
    "df['claim_clean'] = df['claim'].apply(clean_text)\n",
    "df['description_clean'] = df['description'].apply(clean_text)\n",
    "\n",
    "\n",
    "lemmatizer = WordNetLemmatizer() #réduit les mots, ex: running -> run\n",
    "stop_words = set(stopwords.words('english')) #supp les mots inutiles comme \"the\" \"and\"\n",
    "\n",
    "def preprocess_text(text):\n",
    "    words = text.split()  # Tokenisation\n",
    "    words = [lemmatizer.lemmatize(word) for word in words if word not in stop_words]  # Lemmatisation et suppression des stopwords\n",
    "    return ' '.join(words) #puis reconstitue en une phrase \n",
    "\n",
    "df['claim_processed'] = df['claim_clean'].apply(preprocess_text)\n",
    "df['description_processed'] = df['description_clean'].apply(preprocess_text)\n",
    "\n",
    "\n",
    "print(df[['claim', 'claim_processed']].head())\n",
    "print(df[['description', 'description_processed']].head())\n",
    "\n",
    "\n"
   ]
  },
  {
   "attachments": {},
   "cell_type": "markdown",
   "metadata": {},
   "source": [
    "# IPC et CPC"
>>>>>>> 51cf9129fc15fbeb346904111f280695f48db099
   ]
  },
  {
   "cell_type": "code",
   "execution_count": 7,
   "metadata": {},
   "outputs": [
    {
     "name": "stdout",
     "output_type": "stream",
     "text": [
<<<<<<< HEAD
      "                                                   claim  \\\n",
      "33553  <!-- EPO <DP n=\"16\"> --><claim id=\"c-en-0001\" ...   \n",
      "9427   <!-- EPO <DP n=\"11\"> --><claim id=\"c-en-0001\" ...   \n",
      "199    <!-- EPO <DP n=\"19\"> --><claim id=\"c-en-0001\" ...   \n",
      "12447  <!-- EPO <DP n=\"28\"> --><claim id=\"c-en-0001\" ...   \n",
      "39489  <!-- EPO <DP n=\"17\"> --><claim id=\"c-en-0001\" ...   \n",
      "\n",
      "                                         claim_processed  \n",
      "33553  epo dp n 16 claim id c en 0001 num 0001 claim ...  \n",
      "9427   epo dp n 11 claim id c en 0001 num 0001 claim ...  \n",
      "199    epo dp n 19 claim id c en 0001 num 0001 claim ...  \n",
      "12447  epo dp n 28 claim id c en 0001 num 0001 claim ...  \n",
      "39489  epo dp n 17 claim id c en 0001 num 0001 claim ...  \n",
      "                                             description  \\\n",
      "33553  <!-- EPO <DP n=\"1\"> --><heading id=\"h0001\">BAC...   \n",
      "9427   <!-- EPO <DP n=\"1\"> --><heading id=\"h0001\"><b>...   \n",
      "199    <!-- EPO <DP n=\"1\"> --><heading id=\"h0001\">Tec...   \n",
      "12447  <!-- EPO <DP n=\"1\"> --><p id=\"p0001\" num=\"0001...   \n",
      "39489  <!-- EPO <DP n=\"1\"> --><heading id=\"h0001\"><b>...   \n",
      "\n",
      "                                   description_processed  \n",
      "33553  epo dp n 1 heading id h0001 background heading...  \n",
      "9427   epo dp n 1 heading id h0001 b technical field ...  \n",
      "199    epo dp n 1 heading id h0001 technical field he...  \n",
      "12447  epo dp n 1 p id p0001 num 0001 present inventi...  \n",
      "39489  epo dp n 1 heading id h0001 b cross reference ...  \n"
     ]
    }
   ],
   "source": [
    "def clean_text(text):\n",
    "    text = re.sub(r'\\W', ' ', text)  # Enlever les caractères spéciaux\n",
    "    text = text.lower()  # Convertir en minuscules\n",
    "    text = re.sub(r'\\s+', ' ', text)  # Enlever les espaces multiples\n",
    "    return text\n",
    "\n",
    "df_sample['claim_clean'] = df_sample['claim'].apply(clean_text)\n",
    "df_sample['description_clean'] = df_sample['description'].apply(clean_text)\n",
    "\n",
    "\n",
    "lemmatizer = WordNetLemmatizer() #réduit les mots, ex: running -> run\n",
    "stop_words = set(stopwords.words('english')) #supp les mots inutiles comme \"the\" \"and\"\n",
    "\n",
    "def preprocess_text(text):\n",
    "    words = text.split()  # Tokenisation\n",
    "    words = [lemmatizer.lemmatize(word) for word in words if word not in stop_words]  # Lemmatisation et suppression des stopwords\n",
    "    return ' '.join(words) #puis reconstitue en une phrase \n",
    "\n",
    "df_sample['claim_processed'] = df_sample['claim_clean'].apply(preprocess_text)\n",
    "df_sample['description_processed'] = df_sample['description_clean'].apply(preprocess_text)\n",
    "\n",
    "\n",
    "print(df_sample[['claim', 'claim_processed']].head())\n",
    "print(df_sample[['description', 'description_processed']].head())"
   ]
  },
  {
   "cell_type": "markdown",
   "metadata": {},
   "source": [
    "# IPC ET CPC"
   ]
  },
  {
   "cell_type": "markdown",
   "metadata": {},
   "source": [
    "## IPC"
   ]
  },
  {
   "cell_type": "code",
   "execution_count": null,
   "metadata": {},
   "outputs": [],
   "source": [
=======
      "0    ['C08J7-04', 'H04M1-02', 'G06F1-16', 'B23K26-3...\n",
      "1              ['A61B17-88', 'A61B17-68', 'A61B17-86']\n",
      "2                           ['D06F58-20', 'D06F58-02']\n",
      "3               ['H01P3-12', 'H01P1-213', 'H01P5-107']\n",
      "4                         ['H04N21-482', 'H04N21-262']\n",
      "Name: IPC, dtype: object\n",
      "[<class 'str'>]\n",
      "0        [C, H, G, B, B, B]\n",
      "1                 [A, A, A]\n",
      "2                    [D, D]\n",
      "3                 [H, H, H]\n",
      "4                    [H, H]\n",
      "                ...        \n",
      "49995          [C, C, C, A]\n",
      "49996          [B, B, B, B]\n",
      "49997          [C, C, A, A]\n",
      "49998          [H, H, G, G]\n",
      "49999       [F, B, B, B, B]\n",
      "Name: IPC_first_letter, Length: 50000, dtype: object\n"
     ]
    },
    {
     "data": {
      "image/png": "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",
      "text/plain": [
       "<Figure size 640x480 with 1 Axes>"
      ]
     },
     "metadata": {},
     "output_type": "display_data"
    }
   ],
   "source": [
>>>>>>> 51cf9129fc15fbeb346904111f280695f48db099
    "#IPC\n",
    "#df['IPC']\n",
    "\n",
    "#Extraire la première lettre \n",
    "print(df['IPC'].head())\n",
    "print(df['IPC'].apply(type).unique())\n",
    "\n",
    "def extract_first_letter(ipc_codes):\n",
    "    #Transformer en liste la chaine de caractère \n",
    "    try:\n",
    "        ipc_codes = eval(ipc_codes)\n",
    "    except:\n",
    "        return []\n",
    "\n",
    "    if isinstance(ipc_codes, list):  # Vérifier que c'est bien une liste\n",
    "        return [code[0] for code in ipc_codes if isinstance(code, str)]  # Vérifier que chaque élément est une chaîne\n",
    "    return []\n",
    "\n",
    "# créa de la colonne IPC avec la première lettre \n",
    "df['IPC_first_letter'] = df['IPC'].apply(extract_first_letter)\n",
    "print(df['IPC_first_letter'])\n",
    "\n",
    "ipc_first_letter_counts = df['IPC_first_letter'].explode().value_counts()\n",
    "\n",
    "# dist de IPC\n",
    "ipc_first_letter_counts.plot(kind='bar')\n",
    "plt.title('Distribution des Premières Lettres des Codes IPC')\n",
    "plt.xlabel('Première Lettre')\n",
    "plt.ylabel('Nombre de Brevets')\n",
<<<<<<< HEAD
    "plt.show()"
   ]
  },
  {
   "cell_type": "markdown",
   "metadata": {},
   "source": [
    "## CPC"
=======
    "plt.show()\n",
    "\n",
    "\n"
>>>>>>> 51cf9129fc15fbeb346904111f280695f48db099
   ]
  },
  {
   "cell_type": "code",
   "execution_count": 8,
   "metadata": {},
   "outputs": [
    {
     "name": "stdout",
     "output_type": "stream",
     "text": [
<<<<<<< HEAD
      "33553          ['B60R22-20', 'Y10T24-4084', 'Y10T24-4019']\n",
      "9427     ['G06F3-0488', 'G06F3-0416', 'G06F2203-04808',...\n",
      "199                          ['F16L37-088', 'F16L37-0841']\n",
      "12447               ['H02H3-006', 'H02H7-26', 'H02H3-044']\n",
      "39489                           ['H04W24-02', 'H04W24-10']\n",
      "Name: CPC, dtype: object\n",
      "[<class 'str'>]\n",
      "33553             [B, Y, Y]\n",
      "9427           [G, G, G, G]\n",
      "199                  [F, F]\n",
      "12447             [H, H, H]\n",
      "39489                [H, H]\n",
      "                ...        \n",
      "33981          [F, F, F, H]\n",
      "31260          [H, H, H, H]\n",
      "12292    [H, H, H, H, H, H]\n",
      "42286             [F, F, F]\n",
      "13664                [G, G]\n",
      "Name: CPC_first_letter, Length: 1000, dtype: object\n"
=======
      "0    ['B23K26-361', 'H04M1-0266', 'B23K26-402', 'G0...\n",
      "1    ['A61B17-68', 'A61B17-888', 'A61B17-8685', 'A6...\n",
      "2                          ['D06F58-206', 'D06F58-20']\n",
      "3    ['H01P1-2138', 'H01P5-107', 'H01P1-2088', 'H01...\n",
      "4        ['H04N21-4345', 'H04N21-4821', 'H04N21-4316']\n",
      "Name: CPC, dtype: object\n",
      "[<class 'str'>]\n",
      "0                    [B, H, B, G, G, G, G, B, B, B, B, G]\n",
      "1                             [A, A, A, A, A, A, A, A, A]\n",
      "2                                                  [D, D]\n",
      "3                                         [H, H, H, H, H]\n",
      "4                                               [H, H, H]\n",
      "                               ...                       \n",
      "49995                   [C, A, A, A, A, A, A, A, A, A, A]\n",
      "49996                                           [B, B, B]\n",
      "49997    [C, C, A, C, C, C, C, C, C, C, C, C, C, C, C, A]\n",
      "49998                         [H, G, H, G, G, G, H, G, H]\n",
      "49999                         [F, B, B, B, B, B, B, B, Y]\n",
      "Name: CPC_first_letter, Length: 50000, dtype: object\n"
>>>>>>> 51cf9129fc15fbeb346904111f280695f48db099
     ]
    },
    {
     "data": {
<<<<<<< HEAD
      "image/png": "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",
=======
      "image/png": "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",
>>>>>>> 51cf9129fc15fbeb346904111f280695f48db099
      "text/plain": [
       "<Figure size 640x480 with 1 Axes>"
      ]
     },
     "metadata": {},
     "output_type": "display_data"
    }
   ],
   "source": [
    "#CPC\n",
    "\n",
    "#Extraire la première lettre \n",
<<<<<<< HEAD
    "print(df_sample['CPC'].head())\n",
    "print(df_sample['CPC'].apply(type).unique())\n",
=======
    "print(df['CPC'].head())\n",
    "print(df['CPC'].apply(type).unique())\n",
>>>>>>> 51cf9129fc15fbeb346904111f280695f48db099
    "\n",
    "def extract_first_letter(cpc_codes):\n",
    "    #Transformer en liste la chaine de caractère \n",
    "    try:\n",
    "        cpc_codes = eval(cpc_codes)\n",
    "    except:\n",
    "        return []\n",
    "\n",
    "    if isinstance(cpc_codes, list):  # Vérifier que c'est bien une liste\n",
    "        return [code[0] for code in cpc_codes if isinstance(code, str)]  # Vérifier que chaque élément est une chaîne\n",
    "    return []\n",
    "\n",
    "# créa de la colonne 1 letter cpc \n",
<<<<<<< HEAD
    "df_sample['CPC_first_letter'] = df_sample['CPC'].apply(extract_first_letter)\n",
    "print(df_sample['CPC_first_letter'])\n",
    "\n",
    "cpc_first_letter_counts = df_sample['CPC_first_letter'].explode().value_counts()\n",
=======
    "df['CPC_first_letter'] = df['CPC'].apply(extract_first_letter)\n",
    "print(df['CPC_first_letter'])\n",
    "\n",
    "cpc_first_letter_counts = df['CPC_first_letter'].explode().value_counts()\n",
>>>>>>> 51cf9129fc15fbeb346904111f280695f48db099
    "\n",
    "# la dist des CPC\n",
    "cpc_first_letter_counts.plot(kind='bar')\n",
    "plt.title('Distribution des Premières Lettres des Codes CPC')\n",
    "plt.xlabel('Première Lettre')\n",
    "plt.ylabel('Nombre de Brevets')\n",
    "plt.show()"
   ]
  },
  {
<<<<<<< HEAD
   "cell_type": "markdown",
   "metadata": {},
   "source": [
    "## Drop Colonne inutile "
   ]
  },
  {
=======
>>>>>>> 51cf9129fc15fbeb346904111f280695f48db099
   "cell_type": "code",
   "execution_count": 9,
   "metadata": {},
   "outputs": [
    {
     "data": {
      "text/html": [
       "<div>\n",
       "<style scoped>\n",
       "    .dataframe tbody tr th:only-of-type {\n",
       "        vertical-align: middle;\n",
       "    }\n",
       "\n",
       "    .dataframe tbody tr th {\n",
       "        vertical-align: top;\n",
       "    }\n",
       "\n",
       "    .dataframe thead th {\n",
       "        text-align: right;\n",
       "    }\n",
       "</style>\n",
       "<table border=\"1\" class=\"dataframe\">\n",
       "  <thead>\n",
       "    <tr style=\"text-align: right;\">\n",
       "      <th></th>\n",
       "      <th>Numéro d'application</th>\n",
       "      <th>Date d'application</th>\n",
       "      <th>Numero de publication</th>\n",
       "      <th>date de publication</th>\n",
       "      <th>CPC</th>\n",
<<<<<<< HEAD
=======
       "      <th>IPC</th>\n",
       "      <th>IPC_first_letter</th>\n",
>>>>>>> 51cf9129fc15fbeb346904111f280695f48db099
       "      <th>CPC_first_letter</th>\n",
       "      <th>claim_description</th>\n",
       "    </tr>\n",
       "  </thead>\n",
       "  <tbody>\n",
       "    <tr>\n",
<<<<<<< HEAD
       "      <th>33553</th>\n",
       "      <td>17159356</td>\n",
       "      <td>2017-03-06</td>\n",
       "      <td>3284640</td>\n",
       "      <td>2018-02-21</td>\n",
       "      <td>['B60R22-20', 'Y10T24-4084', 'Y10T24-4019']</td>\n",
       "      <td>[B, Y, Y]</td>\n",
       "      <td>epo dp n 16 claim id c en 0001 num 0001 claim ...</td>\n",
       "    </tr>\n",
       "    <tr>\n",
       "      <th>9427</th>\n",
       "      <td>18853856</td>\n",
       "      <td>2018-09-05</td>\n",
       "      <td>3660649</td>\n",
       "      <td>2020-06-03</td>\n",
       "      <td>['G06F3-0488', 'G06F3-0416', 'G06F2203-04808',...</td>\n",
       "      <td>[G, G, G, G]</td>\n",
       "      <td>epo dp n 11 claim id c en 0001 num 0001 claim ...</td>\n",
       "    </tr>\n",
       "    <tr>\n",
       "      <th>199</th>\n",
       "      <td>18760974</td>\n",
       "      <td>2018-01-31</td>\n",
       "      <td>3591276</td>\n",
       "      <td>2020-01-08</td>\n",
       "      <td>['F16L37-088', 'F16L37-0841']</td>\n",
       "      <td>[F, F]</td>\n",
       "      <td>epo dp n 19 claim id c en 0001 num 0001 claim ...</td>\n",
       "    </tr>\n",
       "    <tr>\n",
       "      <th>12447</th>\n",
       "      <td>19150079</td>\n",
       "      <td>2019-01-02</td>\n",
       "      <td>3678269</td>\n",
       "      <td>2020-07-08</td>\n",
       "      <td>['H02H3-006', 'H02H7-26', 'H02H3-044']</td>\n",
       "      <td>[H, H, H]</td>\n",
       "      <td>epo dp n 28 claim id c en 0001 num 0001 claim ...</td>\n",
       "    </tr>\n",
       "    <tr>\n",
       "      <th>39489</th>\n",
       "      <td>20855185</td>\n",
       "      <td>2020-07-17</td>\n",
       "      <td>4017072</td>\n",
       "      <td>2022-06-22</td>\n",
       "      <td>['H04W24-02', 'H04W24-10']</td>\n",
       "      <td>[H, H]</td>\n",
       "      <td>epo dp n 17 claim id c en 0001 num 0001 claim ...</td>\n",
=======
       "      <th>0</th>\n",
       "      <td>17167919</td>\n",
       "      <td>2017-04-25</td>\n",
       "      <td>3264223</td>\n",
       "      <td>2018-01-03</td>\n",
       "      <td>['B23K26-361', 'H04M1-0266', 'B23K26-402', 'G0...</td>\n",
       "      <td>['C08J7-04', 'H04M1-02', 'G06F1-16', 'B23K26-3...</td>\n",
       "      <td>[C, H, G, B, B, B]</td>\n",
       "      <td>[B, H, B, G, G, G, G, B, B, B, B, G]</td>\n",
       "      <td>epo dp n 18 claim id c en 0001 num 0001 claim ...</td>\n",
       "    </tr>\n",
       "    <tr>\n",
       "      <th>1</th>\n",
       "      <td>17166775</td>\n",
       "      <td>2017-04-18</td>\n",
       "      <td>3235458</td>\n",
       "      <td>2017-10-25</td>\n",
       "      <td>['A61B17-68', 'A61B17-888', 'A61B17-8685', 'A6...</td>\n",
       "      <td>['A61B17-88', 'A61B17-68', 'A61B17-86']</td>\n",
       "      <td>[A, A, A]</td>\n",
       "      <td>[A, A, A, A, A, A, A, A, A]</td>\n",
       "      <td>epo dp n 20 claim id c en 0001 num 0001 claim ...</td>\n",
       "    </tr>\n",
       "    <tr>\n",
       "      <th>2</th>\n",
       "      <td>17166069</td>\n",
       "      <td>2017-04-11</td>\n",
       "      <td>3249094</td>\n",
       "      <td>2017-11-29</td>\n",
       "      <td>['D06F58-206', 'D06F58-20']</td>\n",
       "      <td>['D06F58-20', 'D06F58-02']</td>\n",
       "      <td>[D, D]</td>\n",
       "      <td>[D, D]</td>\n",
       "      <td>epo dp n 22 claim id c en 0001 num 0001 claim ...</td>\n",
       "    </tr>\n",
       "    <tr>\n",
       "      <th>3</th>\n",
       "      <td>18771363</td>\n",
       "      <td>2018-03-05</td>\n",
       "      <td>3605724</td>\n",
       "      <td>2020-02-05</td>\n",
       "      <td>['H01P1-2138', 'H01P5-107', 'H01P1-2088', 'H01...</td>\n",
       "      <td>['H01P3-12', 'H01P1-213', 'H01P5-107']</td>\n",
       "      <td>[H, H, H]</td>\n",
       "      <td>[H, H, H, H, H]</td>\n",
       "      <td>epo dp n 62 claim id c en 0001 num 0001 claim ...</td>\n",
       "    </tr>\n",
       "    <tr>\n",
       "      <th>4</th>\n",
       "      <td>19881950</td>\n",
       "      <td>2019-11-01</td>\n",
       "      <td>3713245</td>\n",
       "      <td>2020-09-23</td>\n",
       "      <td>['H04N21-4345', 'H04N21-4821', 'H04N21-4316']</td>\n",
       "      <td>['H04N21-482', 'H04N21-262']</td>\n",
       "      <td>[H, H]</td>\n",
       "      <td>[H, H, H]</td>\n",
       "      <td>epo dp n 14 claim id c en 0001 num 0001 claim ...</td>\n",
>>>>>>> 51cf9129fc15fbeb346904111f280695f48db099
       "    </tr>\n",
       "  </tbody>\n",
       "</table>\n",
       "</div>"
      ],
      "text/plain": [
<<<<<<< HEAD
       "       Numéro d'application Date d'application  Numero de publication  \\\n",
       "33553              17159356         2017-03-06                3284640   \n",
       "9427               18853856         2018-09-05                3660649   \n",
       "199                18760974         2018-01-31                3591276   \n",
       "12447              19150079         2019-01-02                3678269   \n",
       "39489              20855185         2020-07-17                4017072   \n",
       "\n",
       "      date de publication                                                CPC  \\\n",
       "33553          2018-02-21        ['B60R22-20', 'Y10T24-4084', 'Y10T24-4019']   \n",
       "9427           2020-06-03  ['G06F3-0488', 'G06F3-0416', 'G06F2203-04808',...   \n",
       "199            2020-01-08                      ['F16L37-088', 'F16L37-0841']   \n",
       "12447          2020-07-08             ['H02H3-006', 'H02H7-26', 'H02H3-044']   \n",
       "39489          2022-06-22                         ['H04W24-02', 'H04W24-10']   \n",
       "\n",
       "      CPC_first_letter                                  claim_description  \n",
       "33553        [B, Y, Y]  epo dp n 16 claim id c en 0001 num 0001 claim ...  \n",
       "9427      [G, G, G, G]  epo dp n 11 claim id c en 0001 num 0001 claim ...  \n",
       "199             [F, F]  epo dp n 19 claim id c en 0001 num 0001 claim ...  \n",
       "12447        [H, H, H]  epo dp n 28 claim id c en 0001 num 0001 claim ...  \n",
       "39489           [H, H]  epo dp n 17 claim id c en 0001 num 0001 claim ...  "
=======
       "   Numéro d'application Date d'application  Numero de publication  \\\n",
       "0              17167919         2017-04-25                3264223   \n",
       "1              17166775         2017-04-18                3235458   \n",
       "2              17166069         2017-04-11                3249094   \n",
       "3              18771363         2018-03-05                3605724   \n",
       "4              19881950         2019-11-01                3713245   \n",
       "\n",
       "  date de publication                                                CPC  \\\n",
       "0          2018-01-03  ['B23K26-361', 'H04M1-0266', 'B23K26-402', 'G0...   \n",
       "1          2017-10-25  ['A61B17-68', 'A61B17-888', 'A61B17-8685', 'A6...   \n",
       "2          2017-11-29                        ['D06F58-206', 'D06F58-20']   \n",
       "3          2020-02-05  ['H01P1-2138', 'H01P5-107', 'H01P1-2088', 'H01...   \n",
       "4          2020-09-23      ['H04N21-4345', 'H04N21-4821', 'H04N21-4316']   \n",
       "\n",
       "                                                 IPC    IPC_first_letter  \\\n",
       "0  ['C08J7-04', 'H04M1-02', 'G06F1-16', 'B23K26-3...  [C, H, G, B, B, B]   \n",
       "1            ['A61B17-88', 'A61B17-68', 'A61B17-86']           [A, A, A]   \n",
       "2                         ['D06F58-20', 'D06F58-02']              [D, D]   \n",
       "3             ['H01P3-12', 'H01P1-213', 'H01P5-107']           [H, H, H]   \n",
       "4                       ['H04N21-482', 'H04N21-262']              [H, H]   \n",
       "\n",
       "                       CPC_first_letter  \\\n",
       "0  [B, H, B, G, G, G, G, B, B, B, B, G]   \n",
       "1           [A, A, A, A, A, A, A, A, A]   \n",
       "2                                [D, D]   \n",
       "3                       [H, H, H, H, H]   \n",
       "4                             [H, H, H]   \n",
       "\n",
       "                                   claim_description  \n",
       "0  epo dp n 18 claim id c en 0001 num 0001 claim ...  \n",
       "1  epo dp n 20 claim id c en 0001 num 0001 claim ...  \n",
       "2  epo dp n 22 claim id c en 0001 num 0001 claim ...  \n",
       "3  epo dp n 62 claim id c en 0001 num 0001 claim ...  \n",
       "4  epo dp n 14 claim id c en 0001 num 0001 claim ...  "
>>>>>>> 51cf9129fc15fbeb346904111f280695f48db099
      ]
     },
     "execution_count": 9,
     "metadata": {},
     "output_type": "execute_result"
    }
   ],
   "source": [
    "#ipc on va essayer de prendre juste les 4premiers caractères des variables de la colonne IPC -> demander aux autres \n",
    "\n",
    "#fusion de la colonne claim et description pour faciliter l'analyse par la suite \n",
<<<<<<< HEAD
    "df_sample['claim_description'] = df_sample.apply(lambda row: row['claim_processed'] + ' ' + row['description_processed'], axis=1)\n",
    "df_sample.head()\n",
    "\n",
    "#on peut supp les colonnes : claim, description, claim_clean, description_clean, claim_processed, description_processed à confirmer avec harish \n",
    "df_sample = df_sample.drop(['claim', 'description', 'claim_clean', 'description_clean', 'claim_processed', 'description_processed', 'IPC'], axis=1)\n",
    "df_sample.head()"
   ]
  },
  {
   "cell_type": "markdown",
   "metadata": {},
   "source": [
    "## Affichage des 3 premiers caractères du brevet"
=======
    "df['claim_description'] = df.apply(lambda row: row['claim_processed'] + ' ' + row['description_processed'], axis=1)\n",
    "df.head()\n",
    "\n",
    "#on peut supp les colonnes : claim, description, claim_clean, description_clean, claim_processed, description_processed à confirmer avec harish \n",
    "df = df.drop(['claim', 'description', 'claim_clean', 'description_clean', 'claim_processed', 'description_processed'], axis=1)\n",
    "df.head()"
>>>>>>> 51cf9129fc15fbeb346904111f280695f48db099
   ]
  },
  {
   "cell_type": "code",
   "execution_count": 10,
   "metadata": {},
   "outputs": [
    {
     "name": "stdout",
     "output_type": "stream",
     "text": [
<<<<<<< HEAD
      "                                                     CPC CPC_three_car\n",
      "33553              [B60R22-20, Y10T24-4084, Y10T24-4019]    [B60, Y10]\n",
      "9427   [G06F3-0488, G06F3-0416, G06F2203-04808, G06F2...         [G06]\n",
      "199                            [F16L37-088, F16L37-0841]         [F16]\n",
      "12447                   [H02H3-006, H02H7-26, H02H3-044]         [H02]\n",
      "39489                             [H04W24-02, H04W24-10]         [H04]\n",
      "...                                                  ...           ...\n",
      "33981    [F04B39-121, F04B39-0044, F04B35-045, H02J9-06]    [H02, F04]\n",
      "31260    [H04W12-08, H04L63-102, H04W12-06, H04L63-0861]         [H04]\n",
      "12292  [H04L67-02, H04L47-125, H04L67-61, H04L67-1001...         [H04]\n",
      "42286            [F24D19-0092, F24H9-2021, F24D2220-042]         [F24]\n",
      "13664                            [G06F21-86, G06F21-554]         [G06]\n",
      "\n",
      "[1000 rows x 2 columns]\n"
=======
      "                                                     CPC  \\\n",
      "0      [B23K26-361, H04M1-0266, B23K26-402, G06F1-162...   \n",
      "1      [A61B17-68, A61B17-888, A61B17-8685, A61B17-86...   \n",
      "2                                [D06F58-206, D06F58-20]   \n",
      "3      [H01P1-2138, H01P5-107, H01P1-2088, H01P5-182,...   \n",
      "4                [H04N21-4345, H04N21-4821, H04N21-4316]   \n",
      "...                                                  ...   \n",
      "49995  [C09D7-63, A61Q3-02, A61K8-40, A61K8-042, A61K...   \n",
      "49996                   [B60R7-02, B60R5-04, B65D5-2014]   \n",
      "49997  [C07K16-46, C07K16-2863, A61P35-00, C07K16-280...   \n",
      "49998  [H04W4-80, G07F11-62, H04B5-79, G07F9-026, G07...   \n",
      "49999  [F01D25-002, B08B3-003, B01F23-235, B01F25-313...   \n",
      "\n",
      "                   CPC_three_car  \n",
      "0           [G02, H04, B23, G06]  \n",
      "1                          [A61]  \n",
      "2                          [D06]  \n",
      "3                          [H01]  \n",
      "4                          [H04]  \n",
      "...                          ...  \n",
      "49995                 [C09, A61]  \n",
      "49996                 [B60, B65]  \n",
      "49997                 [C07, A61]  \n",
      "49998            [H04, G06, G07]  \n",
      "49999  [B08, Y02, B33, B01, F01]  \n",
      "\n",
      "[50000 rows x 2 columns]\n"
>>>>>>> 51cf9129fc15fbeb346904111f280695f48db099
     ]
    }
   ],
   "source": [
    "#est un outil puissant pour l'analyse, la transformation et la manipulation de code source Python. Elle est particulièrement utile pour les tâches qui nécessitent une compréhension approfondie de la structure syntaxique du code.\n",
    "\n",
    "\n",
    "#on se concentre sur CPC et on se base 2 niveaux donc les 3 premiers caractères du CPC\n",
    "\n",
    "#comme CPC est de type object donc chaine de caractère il faut qu'on le convertisse en liste pour recup les 3 prem carac\n",
    "def convert_list(cpc_string):\n",
    "    try:\n",
    "        return ast.literal_eval(cpc_string)\n",
    "    except:\n",
    "        return []\n",
    "    \n",
<<<<<<< HEAD
    "df_sample['CPC'] = df_sample['CPC'].apply(convert_list)\n",
=======
    "df['CPC'] = df['CPC'].apply(convert_list)\n",
>>>>>>> 51cf9129fc15fbeb346904111f280695f48db099
    "\n",
    "#On extrait les 3 prem carac + supp les doublons \n",
    "def extract_three_first_carac(cpc_codes):\n",
    "    if isinstance(cpc_codes, list):\n",
    "        cpc_three_car = [code[:3] for code in cpc_codes]\n",
    "        return list(set(cpc_three_car)) #suppression des doublons \n",
    "  \n",
    "    else:\n",
    "        return []\n",
    "\n",
<<<<<<< HEAD
    "df_sample['CPC_three_car'] = df_sample['CPC'].apply(extract_three_first_carac)\n",
    "print(df_sample[['CPC', 'CPC_three_car']])"
   ]
  },
  {
   "cell_type": "code",
   "execution_count": null,
   "metadata": {},
   "outputs": [],
   "source": []
=======
    "df['CPC_three_car'] = df['CPC'].apply(extract_three_first_carac)\n",
    "print(df[['CPC', 'CPC_three_car']])"
   ]
>>>>>>> 51cf9129fc15fbeb346904111f280695f48db099
  }
 ],
 "metadata": {
  "kernelspec": {
<<<<<<< HEAD
   "display_name": "base",
=======
   "display_name": "Python 3",
>>>>>>> 51cf9129fc15fbeb346904111f280695f48db099
   "language": "python",
   "name": "python3"
  },
  "language_info": {
   "codemirror_mode": {
    "name": "ipython",
    "version": 3
   },
   "file_extension": ".py",
   "mimetype": "text/x-python",
   "name": "python",
   "nbconvert_exporter": "python",
   "pygments_lexer": "ipython3",
   "version": "3.11.7"
<<<<<<< HEAD
  }
=======
  },
  "orig_nbformat": 4
>>>>>>> 51cf9129fc15fbeb346904111f280695f48db099
 },
 "nbformat": 4,
 "nbformat_minor": 2
}
