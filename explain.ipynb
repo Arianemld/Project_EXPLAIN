{
 "cells": [
  {
   "cell_type": "markdown",
   "metadata": {},
   "source": []
  },
  {
   "attachments": {},
   "cell_type": "markdown",
   "metadata": {},
   "source": [
    "# Import sources"
   ]
  },
  {
   "cell_type": "code",
   "execution_count": 1,
   "metadata": {},
   "outputs": [
    {
     "name": "stderr",
     "output_type": "stream",
     "text": [
      "[nltk_data] Downloading package stopwords to\n",
      "[nltk_data]     /Users/arianemailanandam/nltk_data...\n",
      "[nltk_data]   Package stopwords is already up-to-date!\n",
      "[nltk_data] Downloading package wordnet to\n",
      "[nltk_data]     /Users/arianemailanandam/nltk_data...\n",
      "[nltk_data]   Package wordnet is already up-to-date!\n"
     ]
    }
   ],
   "source": [
    "import pandas as pd \n",
    "import re #expression régulière \n",
    "import nltk #traitement naturel symbolique et statistique du langage anglais\n",
    "from nltk.corpus import stopwords\n",
    "from nltk.stem import WordNetLemmatizer\n",
    "import matplotlib.pyplot as plt\n",
    "import seaborn as sns\n",
    "\n",
    "nltk.download('stopwords')\n",
    "nltk.download('wordnet')\n",
    "\n",
    "\n",
    "df = pd.read_excel(\"data.xlsx\")"
   ]
  },
  {
   "cell_type": "code",
   "execution_count": 2,
   "metadata": {},
   "outputs": [
    {
     "data": {
      "text/html": [
       "<div>\n",
       "<style scoped>\n",
       "    .dataframe tbody tr th:only-of-type {\n",
       "        vertical-align: middle;\n",
       "    }\n",
       "\n",
       "    .dataframe tbody tr th {\n",
       "        vertical-align: top;\n",
       "    }\n",
       "\n",
       "    .dataframe thead th {\n",
       "        text-align: right;\n",
       "    }\n",
       "</style>\n",
       "<table border=\"1\" class=\"dataframe\">\n",
       "  <thead>\n",
       "    <tr style=\"text-align: right;\">\n",
       "      <th></th>\n",
       "      <th>Numéro d'application</th>\n",
       "      <th>Date d'application</th>\n",
       "      <th>Numero de publication</th>\n",
       "      <th>date de publication</th>\n",
       "      <th>CPC</th>\n",
       "      <th>IPC</th>\n",
       "      <th>claim</th>\n",
       "      <th>description</th>\n",
       "    </tr>\n",
       "  </thead>\n",
       "  <tbody>\n",
       "    <tr>\n",
       "      <th>0</th>\n",
       "      <td>17167919</td>\n",
       "      <td>2017-04-25</td>\n",
       "      <td>3264223</td>\n",
       "      <td>2018-01-03</td>\n",
       "      <td>['B23K26-361', 'H04M1-0266', 'B23K26-402', 'G0...</td>\n",
       "      <td>['C08J7-04', 'H04M1-02', 'G06F1-16', 'B23K26-3...</td>\n",
       "      <td>&lt;!-- EPO &lt;DP n=\"18\"&gt; --&gt;&lt;claim id=\"c-en-0001\" ...</td>\n",
       "      <td>&lt;!-- EPO &lt;DP n=\"1\"&gt; --&gt;&lt;p id=\"p0001\" num=\"0001...</td>\n",
       "    </tr>\n",
       "    <tr>\n",
       "      <th>1</th>\n",
       "      <td>17166775</td>\n",
       "      <td>2017-04-18</td>\n",
       "      <td>3235458</td>\n",
       "      <td>2017-10-25</td>\n",
       "      <td>['A61B17-68', 'A61B17-888', 'A61B17-8685', 'A6...</td>\n",
       "      <td>['A61B17-88', 'A61B17-68', 'A61B17-86']</td>\n",
       "      <td>&lt;!-- EPO &lt;DP n=\"20\"&gt; --&gt;&lt;claim id=\"c-en-0001\" ...</td>\n",
       "      <td>&lt;!-- EPO &lt;DP n=\"1\"&gt; --&gt;&lt;heading id=\"h0001\"&gt;FIE...</td>\n",
       "    </tr>\n",
       "    <tr>\n",
       "      <th>2</th>\n",
       "      <td>17166069</td>\n",
       "      <td>2017-04-11</td>\n",
       "      <td>3249094</td>\n",
       "      <td>2017-11-29</td>\n",
       "      <td>['D06F58-206', 'D06F58-20']</td>\n",
       "      <td>['D06F58-20', 'D06F58-02']</td>\n",
       "      <td>&lt;!-- EPO &lt;DP n=\"22\"&gt; --&gt;&lt;claim id=\"c-en-0001\" ...</td>\n",
       "      <td>&lt;!-- EPO &lt;DP n=\"1\"&gt; --&gt;&lt;heading id=\"h0001\"&gt;&lt;b&gt;...</td>\n",
       "    </tr>\n",
       "    <tr>\n",
       "      <th>3</th>\n",
       "      <td>18771363</td>\n",
       "      <td>2018-03-05</td>\n",
       "      <td>3605724</td>\n",
       "      <td>2020-02-05</td>\n",
       "      <td>['H01P1-2138', 'H01P5-107', 'H01P1-2088', 'H01...</td>\n",
       "      <td>['H01P3-12', 'H01P1-213', 'H01P5-107']</td>\n",
       "      <td>&lt;!-- EPO &lt;DP n=\"62\"&gt; --&gt;&lt;claim id=\"c-en-0001\" ...</td>\n",
       "      <td>&lt;!-- EPO &lt;DP n=\"1\"&gt; --&gt;&lt;heading id=\"h0001\"&gt;Tec...</td>\n",
       "    </tr>\n",
       "    <tr>\n",
       "      <th>4</th>\n",
       "      <td>19881950</td>\n",
       "      <td>2019-11-01</td>\n",
       "      <td>3713245</td>\n",
       "      <td>2020-09-23</td>\n",
       "      <td>['H04N21-4345', 'H04N21-4821', 'H04N21-4316']</td>\n",
       "      <td>['H04N21-482', 'H04N21-262']</td>\n",
       "      <td>&lt;!-- EPO &lt;DP n=\"14\"&gt; --&gt;&lt;claim id=\"c-en-0001\" ...</td>\n",
       "      <td>&lt;!-- EPO &lt;DP n=\"1\"&gt; --&gt;&lt;p id=\"p0001\" num=\"0001...</td>\n",
       "    </tr>\n",
       "  </tbody>\n",
       "</table>\n",
       "</div>"
      ],
      "text/plain": [
       "   Numéro d'application Date d'application  Numero de publication  \\\n",
       "0              17167919         2017-04-25                3264223   \n",
       "1              17166775         2017-04-18                3235458   \n",
       "2              17166069         2017-04-11                3249094   \n",
       "3              18771363         2018-03-05                3605724   \n",
       "4              19881950         2019-11-01                3713245   \n",
       "\n",
       "  date de publication                                                CPC  \\\n",
       "0          2018-01-03  ['B23K26-361', 'H04M1-0266', 'B23K26-402', 'G0...   \n",
       "1          2017-10-25  ['A61B17-68', 'A61B17-888', 'A61B17-8685', 'A6...   \n",
       "2          2017-11-29                        ['D06F58-206', 'D06F58-20']   \n",
       "3          2020-02-05  ['H01P1-2138', 'H01P5-107', 'H01P1-2088', 'H01...   \n",
       "4          2020-09-23      ['H04N21-4345', 'H04N21-4821', 'H04N21-4316']   \n",
       "\n",
       "                                                 IPC  \\\n",
       "0  ['C08J7-04', 'H04M1-02', 'G06F1-16', 'B23K26-3...   \n",
       "1            ['A61B17-88', 'A61B17-68', 'A61B17-86']   \n",
       "2                         ['D06F58-20', 'D06F58-02']   \n",
       "3             ['H01P3-12', 'H01P1-213', 'H01P5-107']   \n",
       "4                       ['H04N21-482', 'H04N21-262']   \n",
       "\n",
       "                                               claim  \\\n",
       "0  <!-- EPO <DP n=\"18\"> --><claim id=\"c-en-0001\" ...   \n",
       "1  <!-- EPO <DP n=\"20\"> --><claim id=\"c-en-0001\" ...   \n",
       "2  <!-- EPO <DP n=\"22\"> --><claim id=\"c-en-0001\" ...   \n",
       "3  <!-- EPO <DP n=\"62\"> --><claim id=\"c-en-0001\" ...   \n",
       "4  <!-- EPO <DP n=\"14\"> --><claim id=\"c-en-0001\" ...   \n",
       "\n",
       "                                         description  \n",
       "0  <!-- EPO <DP n=\"1\"> --><p id=\"p0001\" num=\"0001...  \n",
       "1  <!-- EPO <DP n=\"1\"> --><heading id=\"h0001\">FIE...  \n",
       "2  <!-- EPO <DP n=\"1\"> --><heading id=\"h0001\"><b>...  \n",
       "3  <!-- EPO <DP n=\"1\"> --><heading id=\"h0001\">Tec...  \n",
       "4  <!-- EPO <DP n=\"1\"> --><p id=\"p0001\" num=\"0001...  "
      ]
     },
     "execution_count": 2,
     "metadata": {},
     "output_type": "execute_result"
    }
   ],
   "source": [
    "df.head()\n"
   ]
  },
  {
   "cell_type": "code",
   "execution_count": 3,
   "metadata": {},
   "outputs": [
    {
     "data": {
      "text/plain": [
       "Numéro d'application              int64\n",
       "Date d'application       datetime64[ns]\n",
       "Numero de publication             int64\n",
       "date de publication      datetime64[ns]\n",
       "CPC                              object\n",
       "IPC                              object\n",
       "claim                            object\n",
       "description                      object\n",
       "dtype: object"
      ]
     },
     "execution_count": 3,
     "metadata": {},
     "output_type": "execute_result"
    }
   ],
   "source": [
    "df.columns\n",
    "df.dtypes #Normalement pas besoin de faire des conversions "
   ]
  },
  {
   "cell_type": "code",
   "execution_count": 4,
   "metadata": {},
   "outputs": [
    {
     "name": "stdout",
     "output_type": "stream",
     "text": [
      "Numéro d'application     0\n",
      "Date d'application       0\n",
      "Numero de publication    0\n",
      "date de publication      0\n",
      "CPC                      0\n",
      "IPC                      0\n",
      "claim                    0\n",
      "description              0\n",
      "dtype: int64\n"
     ]
    }
   ],
   "source": [
    "#Des valeurs manquantes ?\n",
    "print(df.isnull().sum())\n",
    "\n",
    "#Pas de valeur manquante "
   ]
  },
  {
   "cell_type": "code",
   "execution_count": 5,
   "metadata": {},
   "outputs": [
    {
     "name": "stdout",
     "output_type": "stream",
     "text": [
      "Nombre de doublons : 0\n"
     ]
    }
   ],
   "source": [
    "#Supprimer les doublons \n",
    "df = df.drop_duplicates()\n",
    "\n",
    "# Vérification des doublons\n",
    "print(\"Nombre de doublons :\", df.duplicated().sum()) #pas de doublons\n"
   ]
  },
  {
   "attachments": {},
   "cell_type": "markdown",
   "metadata": {},
   "source": [
    "# Tokenisation et lemmatisation"
   ]
  },
  {
   "cell_type": "code",
   "execution_count": 6,
   "metadata": {},
   "outputs": [
    {
     "name": "stdout",
     "output_type": "stream",
     "text": [
      "                                               claim  \\\n",
      "0  <!-- EPO <DP n=\"18\"> --><claim id=\"c-en-0001\" ...   \n",
      "1  <!-- EPO <DP n=\"20\"> --><claim id=\"c-en-0001\" ...   \n",
      "2  <!-- EPO <DP n=\"22\"> --><claim id=\"c-en-0001\" ...   \n",
      "3  <!-- EPO <DP n=\"62\"> --><claim id=\"c-en-0001\" ...   \n",
      "4  <!-- EPO <DP n=\"14\"> --><claim id=\"c-en-0001\" ...   \n",
      "\n",
      "                                     claim_processed  \n",
      "0  epo dp n 18 claim id c en 0001 num 0001 claim ...  \n",
      "1  epo dp n 20 claim id c en 0001 num 0001 claim ...  \n",
      "2  epo dp n 22 claim id c en 0001 num 0001 claim ...  \n",
      "3  epo dp n 62 claim id c en 0001 num 0001 claim ...  \n",
      "4  epo dp n 14 claim id c en 0001 num 0001 claim ...  \n",
      "                                         description  \\\n",
      "0  <!-- EPO <DP n=\"1\"> --><p id=\"p0001\" num=\"0001...   \n",
      "1  <!-- EPO <DP n=\"1\"> --><heading id=\"h0001\">FIE...   \n",
      "2  <!-- EPO <DP n=\"1\"> --><heading id=\"h0001\"><b>...   \n",
      "3  <!-- EPO <DP n=\"1\"> --><heading id=\"h0001\">Tec...   \n",
      "4  <!-- EPO <DP n=\"1\"> --><p id=\"p0001\" num=\"0001...   \n",
      "\n",
      "                               description_processed  \n",
      "0  epo dp n 1 p id p0001 num 0001 present inventi...  \n",
      "1  epo dp n 1 heading id h0001 field invention he...  \n",
      "2  epo dp n 1 heading id h0001 b field b heading ...  \n",
      "3  epo dp n 1 heading id h0001 technical field he...  \n",
      "4  epo dp n 1 p id p0001 num 0001 application cla...  \n"
     ]
    }
   ],
   "source": [
    "def clean_text(text):\n",
    "    text = re.sub(r'\\W', ' ', text)  # Enlever les caractères spéciaux\n",
    "    text = text.lower()  # Convertir en minuscules\n",
    "    text = re.sub(r'\\s+', ' ', text)  # Enlever les espaces multiples\n",
    "    return text\n",
    "\n",
    "df['claim_clean'] = df['claim'].apply(clean_text)\n",
    "df['description_clean'] = df['description'].apply(clean_text)\n",
    "\n",
    "\n",
    "lemmatizer = WordNetLemmatizer() #réduit les mots, ex: running -> run\n",
    "stop_words = set(stopwords.words('english')) #supp les mots inutiles comme \"the\" \"and\"\n",
    "\n",
    "def preprocess_text(text):\n",
    "    words = text.split()  # Tokenisation\n",
    "    words = [lemmatizer.lemmatize(word) for word in words if word not in stop_words]  # Lemmatisation et suppression des stopwords\n",
    "    return ' '.join(words) #puis reconstitue en une phrase \n",
    "\n",
    "df['claim_processed'] = df['claim_clean'].apply(preprocess_text)\n",
    "df['description_processed'] = df['description_clean'].apply(preprocess_text)\n",
    "\n",
    "\n",
    "print(df[['claim', 'claim_processed']].head())\n",
    "print(df[['description', 'description_processed']].head())\n",
    "\n",
    "\n"
   ]
  },
  {
   "attachments": {},
   "cell_type": "markdown",
   "metadata": {},
   "source": [
    "# IPC et CPC"
   ]
  },
  {
   "cell_type": "code",
   "execution_count": 19,
   "metadata": {},
   "outputs": [
    {
     "name": "stdout",
     "output_type": "stream",
     "text": [
      "0    ['C08J7-04', 'H04M1-02', 'G06F1-16', 'B23K26-3...\n",
      "1              ['A61B17-88', 'A61B17-68', 'A61B17-86']\n",
      "2                           ['D06F58-20', 'D06F58-02']\n",
      "3               ['H01P3-12', 'H01P1-213', 'H01P5-107']\n",
      "4                         ['H04N21-482', 'H04N21-262']\n",
      "Name: IPC, dtype: object\n",
      "[<class 'str'>]\n",
      "0        [C, H, G, B, B, B]\n",
      "1                 [A, A, A]\n",
      "2                    [D, D]\n",
      "3                 [H, H, H]\n",
      "4                    [H, H]\n",
      "                ...        \n",
      "49995          [C, C, C, A]\n",
      "49996          [B, B, B, B]\n",
      "49997          [C, C, A, A]\n",
      "49998          [H, H, G, G]\n",
      "49999       [F, B, B, B, B]\n",
      "Name: IPC_first_letter, Length: 50000, dtype: object\n"
     ]
    },
    {
     "data": {
      "image/png": "[encoded data removed]",
      "text/plain": [
       "<Figure size 640x480 with 1 Axes>"
      ]
     },
     "metadata": {},
     "output_type": "display_data"
    }
   ],
   "source": [
    "#IPC\n",
    "#df['IPC']\n",
    "\n",
    "#Extraire la première lettre \n",
    "print(df['IPC'].head())\n",
    "print(df['IPC'].apply(type).unique())\n",
    "\n",
    "def extract_first_letter(ipc_codes):\n",
    "    #Transformer en liste la chaine de caractère \n",
    "    try:\n",
    "        ipc_codes = eval(ipc_codes)\n",
    "    except:\n",
    "        return []\n",
    "\n",
    "    if isinstance(ipc_codes, list):  # Vérifier que c'est bien une liste\n",
    "        return [code[0] for code in ipc_codes if isinstance(code, str)]  # Vérifier que chaque élément est une chaîne\n",
    "    return []\n",
    "\n",
    "# Appliquer la fonction à la colonne IPC et créer une nouvelle colonne\n",
    "df['IPC_first_letter'] = df['IPC'].apply(extract_first_letter)\n",
    "print(df['IPC_first_letter'])\n",
    "\n",
    "ipc_first_letter_counts = df['IPC_first_letter'].explode().value_counts()\n",
    "\n",
    "# Afficher la distribution sous forme de bar plot\n",
    "ipc_first_letter_counts.plot(kind='bar')\n",
    "plt.title('Distribution des Premières Lettres des Codes IPC')\n",
    "plt.xlabel('Première Lettre')\n",
    "plt.ylabel('Nombre de Brevets')\n",
    "plt.show()\n",
    "\n",
    "\n"
   ]
  },
  {
   "cell_type": "code",
   "execution_count": null,
   "metadata": {},
   "outputs": [],
   "source": []
  }
 ],
 "metadata": {
  "kernelspec": {
   "display_name": "Python 3",
   "language": "python",
   "name": "python3"
  },
  "language_info": {
   "codemirror_mode": {
    "name": "ipython",
    "version": 3
   },
   "file_extension": ".py",
   "mimetype": "text/x-python",
   "name": "python",
   "nbconvert_exporter": "python",
   "pygments_lexer": "ipython3",
   "version": "3.11.7"
  },
  "orig_nbformat": 4
 },
 "nbformat": 4,
 "nbformat_minor": 2
}
